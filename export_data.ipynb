{
 "cells": [
  {
   "cell_type": "code",
   "execution_count": 7,
   "metadata": {},
   "outputs": [],
   "source": [
    "import csv\n",
    "import cv2\n",
    "import numpy as np\n",
    "from enum import Enum\n",
    "\n",
    "correction = 0.3\n",
    "\n",
    "lines = []\n",
    "\n",
    "with open('../cardata/driving_log.csv') as csvfile:\n",
    "    reader = csv.reader(csvfile)\n",
    "    for line in reader:\n",
    "        lines.append(line)"
   ]
  },
  {
   "cell_type": "code",
   "execution_count": 9,
   "metadata": {},
   "outputs": [
    {
     "name": "stderr",
     "output_type": "stream",
     "text": [
      "100%|██████████| 7192/7192 [02:04<00:00, 57.81it/s]\n"
     ]
    }
   ],
   "source": [
    "from tqdm import tqdm\n",
    "\n",
    "images = []\n",
    "measurements = []\n",
    "\n",
    "#Parameter to tune\n",
    "correction = 0.25\n",
    "\n",
    "count = 0\n",
    "\n",
    "def load_image(source_path):\n",
    "    #filename = source_path.split('/')[-1]\n",
    "    #current_path = '/content/gdrive/My Drive/ML_Data/Selfdriving/cardata/IMG/' + filename \n",
    "    return cv2.imread(source_path)\n",
    "\n",
    "\n",
    "for i in tqdm(range(len(lines))):\n",
    "    line = lines[i]\n",
    "    steering_center = float(line[3])\n",
    "    steering_left = steering_center + correction\n",
    "    steering_right = steering_center - correction\n",
    "    image_center = load_image(line[0])\n",
    "    image_left = load_image(line[1])\n",
    "    image_right = load_image(line[2])\n",
    "    images.extend([image_center, image_left, image_right])\n",
    "    measurements.extend([steering_center, steering_left, steering_right])\n",
    "    images.extend([np.fliplr(image_center),np.fliplr(image_left), np.fliplr(image_right)])\n",
    "    measurements.extend([steering_center * -1.0, steering_left* -1.0, steering_right* -1.0])\n"
   ]
  },
  {
   "cell_type": "code",
   "execution_count": 10,
   "metadata": {},
   "outputs": [],
   "source": [
    "import pickle\n",
    "\n",
    "#with open('images.pkl', 'wb') as outfile:\n",
    "#    pickle.dump(images, outfile, pickle.HIGHEST_PROTOCOL)"
   ]
  },
  {
   "cell_type": "code",
   "execution_count": 11,
   "metadata": {},
   "outputs": [],
   "source": [
    "with open('measurements.pkl', 'wb') as outfile:\n",
    "    pickle.dump(measurements, outfile, pickle.HIGHEST_PROTOCOL)\n"
   ]
  },
  {
   "cell_type": "code",
   "execution_count": 5,
   "metadata": {},
   "outputs": [],
   "source": [
    "images2 = None\n",
    "measurements2 = None\n",
    "#with open('images.pkl', 'rb') as infile:\n",
    "#    images2 = pickle.load(infile)\n",
    "\n",
    "with open('measurements.pkl', 'rb') as infile:\n",
    "    measurements2 = pickle.load(infile)\n",
    "assert(measurements == measurements2)"
   ]
  },
  {
   "cell_type": "code",
   "execution_count": 12,
   "metadata": {},
   "outputs": [],
   "source": [
    "import pickle\n",
    "import os.path\n",
    "\n",
    "file_path = \"images.pkl\"\n",
    "\n",
    "max_bytes = 2**31 - 1\n",
    "\n",
    "## write\n",
    "bytes_out = pickle.dumps(images)\n",
    "with open(file_path, 'wb') as f_out:\n",
    "    for idx in range(0, len(bytes_out), max_bytes):\n",
    "        f_out.write(bytes_out[idx:idx+max_bytes])\n",
    "\n",
    "## read\n",
    "#bytes_in = bytearray(0)\n",
    "#input_size = os.path.getsize(file_path)\n",
    "#with open(file_path, 'rb') as f_in:\n",
    "#    for _ in range(0, input_size, max_bytes):\n",
    "#        bytes_in += f_in.read(max_bytes)\n",
    "#data2 = pickle.loads(bytes_in)\n",
    "\n",
    "#len(data2)"
   ]
  },
  {
   "cell_type": "code",
   "execution_count": null,
   "metadata": {},
   "outputs": [],
   "source": []
  },
  {
   "cell_type": "code",
   "execution_count": 20,
   "metadata": {},
   "outputs": [
    {
     "data": {
      "text/plain": [
       "array([[[185, 145, 116],\n",
       "        [185, 145, 116],\n",
       "        [184, 144, 115],\n",
       "        ...,\n",
       "        [  0,  11,   9],\n",
       "        [  7,  20,  18],\n",
       "        [ 22,  35,  33]],\n",
       "\n",
       "       [[185, 145, 116],\n",
       "        [185, 145, 116],\n",
       "        [185, 145, 116],\n",
       "        ...,\n",
       "        [  3,  14,  12],\n",
       "        [  8,  19,  17],\n",
       "        [ 18,  29,  27]],\n",
       "\n",
       "       [[186, 146, 117],\n",
       "        [186, 146, 117],\n",
       "        [186, 146, 117],\n",
       "        ...,\n",
       "        [ 11,  19,  18],\n",
       "        [ 18,  24,  23],\n",
       "        [ 25,  30,  31]],\n",
       "\n",
       "       ...,\n",
       "\n",
       "       [[178, 185, 180],\n",
       "        [117, 124, 119],\n",
       "        [125, 132, 127],\n",
       "        ...,\n",
       "        [141, 155, 153],\n",
       "        [143, 157, 155],\n",
       "        [146, 160, 158]],\n",
       "\n",
       "       [[115, 122, 117],\n",
       "        [ 96, 103,  98],\n",
       "        [139, 146, 141],\n",
       "        ...,\n",
       "        [240, 254, 252],\n",
       "        [ 73,  87,  85],\n",
       "        [ 73,  87,  85]],\n",
       "\n",
       "       [[ 90,  97,  92],\n",
       "        [ 83,  90,  85],\n",
       "        [108, 115, 110],\n",
       "        ...,\n",
       "        [103, 117, 115],\n",
       "        [119, 133, 131],\n",
       "        [103, 117, 115]]], dtype=uint8)"
      ]
     },
     "execution_count": 20,
     "metadata": {},
     "output_type": "execute_result"
    }
   ],
   "source": [
    "data2[0]"
   ]
  },
  {
   "cell_type": "code",
   "execution_count": 21,
   "metadata": {},
   "outputs": [
    {
     "ename": "ValueError",
     "evalue": "The truth value of an array with more than one element is ambiguous. Use a.any() or a.all()",
     "output_type": "error",
     "traceback": [
      "\u001b[0;31m---------------------------------------------------------------------------\u001b[0m",
      "\u001b[0;31mValueError\u001b[0m                                Traceback (most recent call last)",
      "\u001b[0;32m<ipython-input-21-2dcea9fbe564>\u001b[0m in \u001b[0;36m<module>\u001b[0;34m\u001b[0m\n\u001b[0;32m----> 1\u001b[0;31m \u001b[0;32massert\u001b[0m\u001b[0;34m(\u001b[0m\u001b[0mdata2\u001b[0m\u001b[0;34m[\u001b[0m\u001b[0;36m0\u001b[0m\u001b[0;34m]\u001b[0m \u001b[0;34m==\u001b[0m \u001b[0mimages\u001b[0m\u001b[0;34m[\u001b[0m\u001b[0;36m0\u001b[0m\u001b[0;34m]\u001b[0m\u001b[0;34m)\u001b[0m\u001b[0;34m\u001b[0m\u001b[0m\n\u001b[0m",
      "\u001b[0;31mValueError\u001b[0m: The truth value of an array with more than one element is ambiguous. Use a.any() or a.all()"
     ]
    }
   ],
   "source": [
    "assert(data2[0] == images[0])"
   ]
  },
  {
   "cell_type": "code",
   "execution_count": 22,
   "metadata": {},
   "outputs": [
    {
     "data": {
      "text/plain": [
       "True"
      ]
     },
     "execution_count": 22,
     "metadata": {},
     "output_type": "execute_result"
    }
   ],
   "source": [
    "np.array_equal(data2, images)"
   ]
  },
  {
   "cell_type": "code",
   "execution_count": 1,
   "metadata": {},
   "outputs": [],
   "source": [
    "import random\n"
   ]
  },
  {
   "cell_type": "code",
   "execution_count": 9,
   "metadata": {},
   "outputs": [
    {
     "data": {
      "text/plain": [
       "1"
      ]
     },
     "execution_count": 9,
     "metadata": {},
     "output_type": "execute_result"
    }
   ],
   "source": [
    "random.randint(0,2)"
   ]
  },
  {
   "cell_type": "code",
   "execution_count": null,
   "metadata": {},
   "outputs": [],
   "source": []
  }
 ],
 "metadata": {
  "kernelspec": {
   "display_name": "Python 3",
   "language": "python",
   "name": "python3"
  },
  "language_info": {
   "codemirror_mode": {
    "name": "ipython",
    "version": 3
   },
   "file_extension": ".py",
   "mimetype": "text/x-python",
   "name": "python",
   "nbconvert_exporter": "python",
   "pygments_lexer": "ipython3",
   "version": "3.5.2"
  },
  "widgets": {
   "state": {},
   "version": "1.1.2"
  }
 },
 "nbformat": 4,
 "nbformat_minor": 2
}
